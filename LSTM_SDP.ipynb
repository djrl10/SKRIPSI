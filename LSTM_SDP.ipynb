{
  "nbformat": 4,
  "nbformat_minor": 0,
  "metadata": {
    "colab": {
      "name": "LSTM SDP.ipynb",
      "provenance": [],
      "collapsed_sections": [],
      "include_colab_link": true
    },
    "kernelspec": {
      "display_name": "Python 3",
      "language": "python",
      "name": "python3"
    },
    "language_info": {
      "codemirror_mode": {
        "name": "ipython",
        "version": 3
      },
      "file_extension": ".py",
      "mimetype": "text/x-python",
      "name": "python",
      "nbconvert_exporter": "python",
      "pygments_lexer": "ipython3",
      "version": "3.8.2"
    }
  },
  "cells": [
    {
      "cell_type": "markdown",
      "metadata": {
        "id": "view-in-github",
        "colab_type": "text"
      },
      "source": [
        "<a href=\"https://colab.research.google.com/github/djrl10/SKRIPSI/blob/main/LSTM_SDP.ipynb\" target=\"_parent\"><img src=\"https://colab.research.google.com/assets/colab-badge.svg\" alt=\"Open In Colab\"/></a>"
      ]
    },
    {
      "cell_type": "markdown",
      "metadata": {
        "id": "GKb7F-_vcuJY"
      },
      "source": [
        "Source:\n",
        "https://github.com/c2nes/javalang\n",
        "Software Defect Prediction via ConvolutionalNeural Network\n",
        "Seml: A Semantic LSTM Model for Software Defect Prediction\n",
        "Automatically Learning Semantic Features for Defect Prediction\n",
        "https://github.com/kevinqiu1990/TCNN\n",
        "Transfer Convolutional Neural Network for Cross-Project Defect Prediction "
      ]
    },
    {
      "cell_type": "code",
      "metadata": {
        "colab": {
          "base_uri": "https://localhost:8080/"
        },
        "id": "YBmWhtqdj54P",
        "outputId": "5634f9ab-cb3f-44d5-84c7-70e5112fa8fa"
      },
      "source": [
        "from google.colab import drive\n",
        "drive.mount('/content/drive')"
      ],
      "execution_count": 90,
      "outputs": [
        {
          "output_type": "stream",
          "text": [
            "Drive already mounted at /content/drive; to attempt to forcibly remount, call drive.mount(\"/content/drive\", force_remount=True).\n"
          ],
          "name": "stdout"
        }
      ]
    },
    {
      "cell_type": "code",
      "metadata": {
        "colab": {
          "base_uri": "https://localhost:8080/"
        },
        "id": "QNrh0NzlcuJb",
        "outputId": "f63379e3-72fb-4cbc-9959-7480b66b6e81"
      },
      "source": [
        "!pip3 install javalang\n",
        "import tensorflow as tf\n",
        "import javalang\n",
        "import javalang.tree as jlt\n",
        "from os import walk\n",
        "import pandas as pd\n",
        "from io import StringIO\n",
        "from sklearn.datasets import make_circles\n",
        "from sklearn.metrics import accuracy_score\n",
        "from sklearn.metrics import precision_score\n",
        "from sklearn.metrics import recall_score\n",
        "from sklearn.metrics import f1_score\n",
        "from sklearn.metrics import cohen_kappa_score\n",
        "from sklearn.metrics import roc_auc_score\n",
        "from sklearn.metrics import confusion_matrix\n",
        "from keras.models import Sequential\n",
        "from keras.layers import Dense\n",
        "import pandas as pd\n",
        "import numpy as np\n",
        "import codecs\n",
        "import os\n",
        "import glob\n",
        "import re , itertools\n",
        "from html import unescape\n",
        "!pip install unidecode\n",
        "from unidecode import unidecode\n",
        "import nltk\n",
        "nltk.download('punkt')\n",
        "from nltk import sent_tokenize, word_tokenize\n",
        "from string import punctuation\n",
        "from sklearn.model_selection import train_test_split\n",
        "from sklearn.feature_extraction.text import TfidfTransformer\n",
        "from sklearn.feature_extraction.text import CountVectorizer\n",
        "from sklearn.svm import SVC\n",
        "import matplotlib.pyplot as plt"
      ],
      "execution_count": 91,
      "outputs": [
        {
          "output_type": "stream",
          "text": [
            "Requirement already satisfied: javalang in /usr/local/lib/python3.7/dist-packages (0.13.0)\n",
            "Requirement already satisfied: six in /usr/local/lib/python3.7/dist-packages (from javalang) (1.15.0)\n",
            "Requirement already satisfied: unidecode in /usr/local/lib/python3.7/dist-packages (1.2.0)\n",
            "[nltk_data] Downloading package punkt to /root/nltk_data...\n",
            "[nltk_data]   Package punkt is already up-to-date!\n"
          ],
          "name": "stdout"
        }
      ]
    },
    {
      "cell_type": "markdown",
      "metadata": {
        "id": "f9ptbEBfcuJp"
      },
      "source": [
        "1)Method invocation and class instance creation nodes:\n",
        "We extract and record these nodes using their method or\n",
        "class names. For example, we extract method pop() and\n",
        "push() in File2.java in Figure 1 and record them as pop\n",
        "and push.\n",
        "\n",
        "2)Declaration nodes: We extract method declaration, type\n",
        "declaration and enum declaration nodes, and record them\n",
        "using their names.\n",
        "\n",
        "3)Control-flow nodes: We extract those statements or\n",
        "clauses related to control flow of a program, e.g., if state-\n",
        "ment, for statement, while statement, catch clause.\n",
        "Control-flow nodes are recorded using their statement types,\n",
        "e.g., if statement is recorded as if, and catch clause is recorded\n",
        "as catch.\n",
        "Therefore\n",
        "\n",
        "karena hanya 3 aturan yg digunakan maka types node dari AST yg digunakan adalah dibawah ini:"
      ]
    },
    {
      "cell_type": "code",
      "metadata": {
        "id": "S3s2FoDXcuJr"
      },
      "source": [
        "types = [jlt.FormalParameter, jlt.BasicType, jlt.PackageDeclaration, jlt.InterfaceDeclaration, jlt.CatchClauseParameter,\n",
        "         jlt.ClassDeclaration, jlt.MethodInvocation, jlt.SuperMethodInvocation, jlt.MemberReference, jlt.SuperMemberReference,\n",
        "         jlt.ConstructorDeclaration, jlt.ReferenceType, jlt.MethodDeclaration, jlt.VariableDeclarator, jlt.IfStatement,\n",
        "         jlt.WhileStatement, jlt.DoStatement, jlt.ForStatement, jlt.AssertStatement, jlt.BreakStatement,\n",
        "         jlt.ContinueStatement, jlt.ReturnStatement, jlt.ThrowStatement, jlt.SynchronizedStatement, jlt.TryStatement,\n",
        "         jlt.SwitchStatement, jlt.BlockStatement, jlt.StatementExpression, jlt.TryResource, jlt.CatchClause,\n",
        "         jlt.CatchClauseParameter, jlt.SwitchStatementCase, jlt.ForControl, jlt.EnhancedForControl]"
      ],
      "execution_count": 92,
      "outputs": []
    },
    {
      "cell_type": "markdown",
      "metadata": {
        "id": "YF5HKq1kcuJ2"
      },
      "source": [
        "Function untuk parse dari source code ke AST -> Token\n",
        "\n",
        "Didefinisikan secara manual"
      ]
    },
    {
      "cell_type": "code",
      "metadata": {
        "id": "5nw0FeyEcuJ4",
        "scrolled": true
      },
      "source": [
        "def parse(source):\n",
        "    tokens = javalang.parse.parse(source)\n",
        "    result = []\n",
        "    for path, node in tokens:\n",
        "        if isinstance(node, jlt.PackageDeclaration):\n",
        "            result.append(node.name)\n",
        "            continue\n",
        "        if isinstance(node, jlt.IfStatement):\n",
        "            result.append(\"if\")\n",
        "            continue\n",
        "        if isinstance(node, jlt.InterfaceDeclaration):\n",
        "            result.append(node.name)\n",
        "            continue\n",
        "        if isinstance(node, jlt.ClassDeclaration):\n",
        "            result.append(node.name)\n",
        "            continue\n",
        "        if isinstance(node, jlt.MethodInvocation):\n",
        "            result.append(node.member)\n",
        "            continue\n",
        "        if isinstance(node, jlt.MemberReference):\n",
        "            result.append(node.member)\n",
        "            continue\n",
        "        if isinstance(node, jlt.ConstructorDeclaration):\n",
        "            result.append(node.name)\n",
        "            continue\n",
        "        if isinstance(node, jlt.ReferenceType):\n",
        "            result.append(node.name)\n",
        "            continue\n",
        "        if isinstance(node, jlt.MethodDeclaration):\n",
        "            result.append(node.name)\n",
        "            continue\n",
        "        if isinstance(node, jlt.VariableDeclarator):\n",
        "            result.append(node.name)\n",
        "            continue\n",
        "        if isinstance(node, jlt.ThrowStatement):\n",
        "            result.append(\"throw\")\n",
        "            continue\n",
        "        if isinstance(node, jlt.TryStatement):\n",
        "            result.append(\"try\")\n",
        "            continue\n",
        "        if isinstance(node, jlt.BlockStatement):\n",
        "            result.append(\"block\")\n",
        "            continue\n",
        "        if isinstance(node, jlt.CatchClause):\n",
        "            result.append(\"catch\")\n",
        "            continue\n",
        "        if isinstance(node, jlt.ForStatement):\n",
        "            result.append(\"for\")\n",
        "            continue\n",
        "        if isinstance(node, jlt.AssertStatement):\n",
        "            result.append(\"assert\")\n",
        "            continue\n",
        "        if isinstance(node, jlt.BreakStatement):\n",
        "            result.append(\"break\")\n",
        "            continue\n",
        "        if isinstance(node, jlt.ContinueStatement):\n",
        "            result.append(\"cotinue\")\n",
        "            continue\n",
        "        if isinstance(node, jlt.ReturnStatement):\n",
        "            result.append(\"return\")\n",
        "            continue\n",
        "        if isinstance(node, jlt.ReturnStatement):\n",
        "            result.append(\"return\")\n",
        "            continue\n",
        "        if isinstance(node, jlt.ThrowStatement):\n",
        "            result.append(\"throw\")\n",
        "            continue\n",
        "        if isinstance(node, jlt.SwitchStatement):\n",
        "            result.append(\"switch\")\n",
        "            continue\n",
        "        if isinstance(node, jlt.WhileStatement):\n",
        "            result.append(\"while\")\n",
        "            continue\n",
        "        if isinstance(node, jlt.DoStatement):\n",
        "            result.append(\"do\")\n",
        "            continue\n",
        "        if isinstance(node, jlt.CatchClauseParameter):\n",
        "            result.append(node.types)\n",
        "            continue\n",
        "        if isinstance(node, jlt.BasicType):\n",
        "            result.append(node.name)\n",
        "            continue\n",
        "        if isinstance(node, jlt.SynchronizedStatement):\n",
        "            result.append(\"Synchronized\")\n",
        "            continue\n",
        "    return result\n"
      ],
      "execution_count": 93,
      "outputs": []
    },
    {
      "cell_type": "markdown",
      "metadata": {
        "id": "AP56Dbc3cuJ-"
      },
      "source": [
        "Proses mengubah Source Code (File) -> AST -> Token\n",
        "\n",
        "Arsitektur Folder\n",
        "\n",
        "\n",
        "\"Nama Project\"\n",
        "\n",
        "    \"Defect\"\n",
        "\n",
        "        \"File Defect 1\"\n",
        "\n",
        "        \"File Defect 2\"\n",
        "\n",
        "        ....\n",
        "\n",
        "    \"Non-Defect\"\n",
        "\n",
        "        \"File Non-Defect 1\"\n",
        "\n",
        "        \"File Non-Defect 2\"\n",
        "\n",
        "        ...."
      ]
    },
    {
      "cell_type": "code",
      "metadata": {
        "id": "QSKdxJpNcuJ_",
        "scrolled": true
      },
      "source": [
        "def Tokenize(dir_name):\n",
        "    df_list = []\n",
        "    df = pd.DataFrame(columns=['File','Token','Defect'])\n",
        "    for (dirpath, dirnames, filenames) in walk(dir_name):\n",
        "        for label in dirnames: \n",
        "            for (dirpath, dirnames, filenames) in walk(dir_name+'/'+label):\n",
        "                for filename in filenames:\n",
        "                    f = open(dir_name+'/'+label+'/'+filename, \"r\")\n",
        "                    f = f.read()\n",
        "                    try:\n",
        "                        p = parse(f)\n",
        "                    except:\n",
        "                        continue\n",
        "\n",
        "                    temp = pd.DataFrame([[filename,p,label]],columns=['File','Token','Defect'])\n",
        "                    df_list.append(temp)\n",
        "                break\n",
        "        break\n",
        "    df = pd.concat(df_list)\n",
        "    df = df.reset_index()\n",
        "    return df"
      ],
      "execution_count": 94,
      "outputs": []
    },
    {
      "cell_type": "code",
      "metadata": {
        "id": "I0Lm8rlEe1WP"
      },
      "source": [
        "list_label = ['Tokencamel-1_6', 'Tokencamel-1_4']\n",
        "list_path = ['/content/drive/My Drive/data_set/camel-1.6', '/content/drive/My Drive/data_set/camel-1.4']\n",
        "datasets = dict()\n"
      ],
      "execution_count": 95,
      "outputs": []
    },
    {
      "cell_type": "code",
      "metadata": {
        "id": "hZfsIVtTcuKH"
      },
      "source": [
        "for index in range(2) :\n",
        "  data = Tokenize(list_path[index])\n",
        "  datasets.update({list_label[index] : data})"
      ],
      "execution_count": 96,
      "outputs": []
    },
    {
      "cell_type": "code",
      "metadata": {
        "id": "haSC4ygcDAsK"
      },
      "source": [
        "features = dict()\n",
        "labels = dict()"
      ],
      "execution_count": 97,
      "outputs": []
    },
    {
      "cell_type": "code",
      "metadata": {
        "id": "QJqbPN_OuFBU"
      },
      "source": [
        "for key in datasets.keys() :\n",
        "  list_token = datasets[key].iloc[:, 2:-1]\n",
        "  label = datasets[key].iloc[:, -1:].values\n",
        "  features.update({key : list_token})\n",
        "  labels.update({key : label})\n",
        "  "
      ],
      "execution_count": 98,
      "outputs": []
    },
    {
      "cell_type": "code",
      "metadata": {
        "id": "bIYdH0KcnLc7"
      },
      "source": [
        "clean_features = dict()"
      ],
      "execution_count": 99,
      "outputs": []
    },
    {
      "cell_type": "code",
      "metadata": {
        "id": "c33SbDjHmtSU"
      },
      "source": [
        "for key in datasets.keys() :\n",
        "  feature = features[key].values\n",
        "  clean_feature = list()\n",
        "  for idx, val in enumerate(feature) :\n",
        "    filtered_feature = [x for x in val[0] if isinstance(x, str)]\n",
        "    clean_feature.append(filtered_feature)\n",
        "  clean_features.update({key : clean_feature})"
      ],
      "execution_count": 100,
      "outputs": []
    },
    {
      "cell_type": "code",
      "metadata": {
        "id": "GGXKirR6qDwh"
      },
      "source": [
        "join_features = dict()\n",
        "join_label = dict()"
      ],
      "execution_count": 101,
      "outputs": []
    },
    {
      "cell_type": "code",
      "metadata": {
        "id": "SJ2SMFK9pvaJ"
      },
      "source": [
        "for key in datasets.keys() :\n",
        "  lb = pd.DataFrame(labels[key], columns=['labels'])\n",
        "  lb_dum = pd.get_dummies(lb.labels)\n",
        "  lb_dum.head()\n",
        "  label = lb_dum[['Defect', 'Non-Defect']].values\n",
        "  join_label.update({key : label})\n",
        "  new_feature = [', '.join(item) for item in clean_features[key]]\n",
        "  join_features.update({key : new_feature})"
      ],
      "execution_count": 102,
      "outputs": []
    },
    {
      "cell_type": "markdown",
      "metadata": {
        "id": "MEpObpLw-NzR"
      },
      "source": [
        "#Word Embedding"
      ]
    },
    {
      "cell_type": "markdown",
      "metadata": {
        "id": "jdxmk8j780WR"
      },
      "source": [
        "# Split data into training and validation"
      ]
    },
    {
      "cell_type": "code",
      "metadata": {
        "id": "tpX0iklWqzZa"
      },
      "source": [
        "from sklearn.model_selection import train_test_split\n",
        "token_trains = dict()\n",
        "token_tests = dict()\n",
        "label_trains = dict()\n",
        "label_tests = dict()\n",
        "for key in datasets.keys():\n",
        "  tkn_train, tkn_test, lbl_train, lbl_test = train_test_split(join_features[key], join_label[key], test_size=0.2, shuffle=True)\n",
        "  token_trains.update({key:tkn_train})\n",
        "  token_tests.update({key:tkn_test})\n",
        "  label_trains.update({key:lbl_train})\n",
        "  label_tests.update({key:lbl_test})"
      ],
      "execution_count": 103,
      "outputs": []
    },
    {
      "cell_type": "code",
      "metadata": {
        "colab": {
          "base_uri": "https://localhost:8080/"
        },
        "id": "bvNio9QsvIs6",
        "outputId": "e2e7cbac-ffec-40ee-b033-807dcf88ce03"
      },
      "source": [
        "print(len(token_trains['Tokencamel-1_4']))\n",
        "print(len(token_tests['Tokencamel-1_4']))\n",
        "print(len(label_trains['Tokencamel-1_4']))\n",
        "print(len(label_tests['Tokencamel-1_4']))"
      ],
      "execution_count": 104,
      "outputs": [
        {
          "output_type": "stream",
          "text": [
            "668\n",
            "167\n",
            "668\n",
            "167\n"
          ],
          "name": "stdout"
        }
      ]
    },
    {
      "cell_type": "code",
      "metadata": {
        "colab": {
          "base_uri": "https://localhost:8080/"
        },
        "id": "z9TW1pnvszx9",
        "outputId": "2c5b1aed-d177-4f11-87d6-56f7fb923bce"
      },
      "source": [
        "# tokenizer\n",
        "from tensorflow.keras.preprocessing.text import Tokenizer\n",
        "from tensorflow.keras.preprocessing.sequence import pad_sequences\n",
        "\n",
        "padded_trains = dict()\n",
        "padded_tests = dict()\n",
        "\n",
        "for key in datasets.keys():\n",
        "  tokenizer = Tokenizer(num_words=5000, oov_token='x', filters='!\"#$%&()*+,-./:;<=>@[\\]^_`{|}~ ')\n",
        "  tokenizer.fit_on_texts(token_trains[key]) \n",
        "  tokenizer.fit_on_texts(token_tests[key])\n",
        " \n",
        "  sekuens_train = tokenizer.texts_to_sequences(token_trains[key])\n",
        "  sekuens_test = tokenizer.texts_to_sequences(token_tests[key])\n",
        " \n",
        "  padded_train = pad_sequences(sekuens_train) \n",
        "  padded_test = pad_sequences(sekuens_test)\n",
        "\n",
        "  padded_tests.update({key : padded_test})\n",
        "  padded_trains.update({key : padded_train})\n",
        "\n",
        "  print(padded_test.shape)\n",
        "  print(padded_train.shape)"
      ],
      "execution_count": 105,
      "outputs": [
        {
          "output_type": "stream",
          "text": [
            "(182, 877)\n",
            "(726, 1933)\n",
            "(167, 792)\n",
            "(668, 1639)\n"
          ],
          "name": "stdout"
        }
      ]
    },
    {
      "cell_type": "markdown",
      "metadata": {
        "id": "-t1jdj5M8p-0"
      },
      "source": [
        "#Model LSTM"
      ]
    },
    {
      "cell_type": "code",
      "metadata": {
        "colab": {
          "base_uri": "https://localhost:8080/"
        },
        "id": "KHepwuEDsz8t",
        "outputId": "b3ef9287-4019-4f2f-f79e-e9d786ecb253"
      },
      "source": [
        "# model\n",
        "import tensorflow as tf\n",
        "model = tf.keras.Sequential([\n",
        "    tf.keras.layers.Embedding(input_dim=5000, output_dim=64),\n",
        "    tf.keras.layers.LSTM(128),\n",
        "    tf.keras.layers.Dense(128, activation='relu'),\n",
        "    tf.keras.layers.Dropout(0.5),\n",
        "    tf.keras.layers.Dense(2, activation='sigmoid')\n",
        "])\n",
        "model.compile(optimizer='adam', metrics=['accuracy'], loss='binary_crossentropy',)\n",
        "model.summary()"
      ],
      "execution_count": 106,
      "outputs": [
        {
          "output_type": "stream",
          "text": [
            "Model: \"sequential_8\"\n",
            "_________________________________________________________________\n",
            "Layer (type)                 Output Shape              Param #   \n",
            "=================================================================\n",
            "embedding_9 (Embedding)      (None, None, 64)          320000    \n",
            "_________________________________________________________________\n",
            "lstm_4 (LSTM)                (None, 128)               98816     \n",
            "_________________________________________________________________\n",
            "dense_16 (Dense)             (None, 128)               16512     \n",
            "_________________________________________________________________\n",
            "dropout_8 (Dropout)          (None, 128)               0         \n",
            "_________________________________________________________________\n",
            "dense_17 (Dense)             (None, 2)                 258       \n",
            "=================================================================\n",
            "Total params: 435,586\n",
            "Trainable params: 435,586\n",
            "Non-trainable params: 0\n",
            "_________________________________________________________________\n"
          ],
          "name": "stdout"
        }
      ]
    },
    {
      "cell_type": "code",
      "metadata": {
        "colab": {
          "base_uri": "https://localhost:8080/"
        },
        "id": "u6V3in3ys5k_",
        "outputId": "bc3a54db-9125-4fba-8973-9919dcf69d47"
      },
      "source": [
        "# model fit\n",
        "results = dict()\n",
        "for key in datasets.keys():\n",
        "  history = model.fit(padded_trains[key], label_trains[key], epochs=5, \n",
        "                    steps_per_epoch = 30, validation_data=(padded_tests[key], label_tests[key]), verbose=2, \n",
        "                    validation_steps=30)\n",
        "  results.update({key:history})"
      ],
      "execution_count": 107,
      "outputs": [
        {
          "output_type": "stream",
          "text": [
            "Epoch 1/5\n",
            "WARNING:tensorflow:Your input ran out of data; interrupting training. Make sure that your dataset or generator can generate at least `steps_per_epoch * epochs` batches (in this case, 30 batches). You may need to use the repeat() function when building your dataset.\n",
            "30/30 - 64s - loss: 0.5754 - accuracy: 0.7810 - val_loss: 0.4518 - val_accuracy: 0.8187\n",
            "Epoch 2/5\n",
            "30/30 - 59s - loss: 0.4651 - accuracy: 0.7961\n",
            "Epoch 3/5\n",
            "30/30 - 62s - loss: 0.2884 - accuracy: 0.8939\n",
            "Epoch 4/5\n",
            "30/30 - 62s - loss: 0.1491 - accuracy: 0.9518\n",
            "Epoch 5/5\n",
            "30/30 - 61s - loss: 0.0821 - accuracy: 0.9738\n",
            "Epoch 1/5\n",
            "WARNING:tensorflow:Your input ran out of data; interrupting training. Make sure that your dataset or generator can generate at least `steps_per_epoch * epochs` batches (in this case, 30 batches). You may need to use the repeat() function when building your dataset.\n",
            "30/30 - 70s - loss: 0.5227 - accuracy: 0.7979 - val_loss: 0.4980 - val_accuracy: 0.8024\n",
            "Epoch 2/5\n",
            "30/30 - 65s - loss: 0.3209 - accuracy: 0.8728\n",
            "Epoch 3/5\n",
            "30/30 - 64s - loss: 0.2260 - accuracy: 0.9311\n",
            "Epoch 4/5\n",
            "30/30 - 64s - loss: 0.1546 - accuracy: 0.9416\n",
            "Epoch 5/5\n",
            "30/30 - 64s - loss: 0.0856 - accuracy: 0.9716\n"
          ],
          "name": "stdout"
        }
      ]
    },
    {
      "cell_type": "code",
      "metadata": {
        "id": "COKYpfB9HGTT",
        "colab": {
          "base_uri": "https://localhost:8080/",
          "height": 573
        },
        "outputId": "808a8b25-5dcd-4134-9bc8-2288af5e46c9"
      },
      "source": [
        "for key in datasets.keys():  \n",
        "  plt.plot(history.history['accuracy'])\n",
        "  plt.plot(history.history['val_accuracy'])\n",
        "  plt.title('Model Accuracy')\n",
        "  plt.ylabel('accuracy')\n",
        "  plt.xlabel('epoch')\n",
        "  plt.show()"
      ],
      "execution_count": 108,
      "outputs": [
        {
          "output_type": "display_data",
          "data": {
            "image/png": "[encoded data removed]",
            "text/plain": [
              "<Figure size 432x288 with 1 Axes>"
            ]
          },
          "metadata": {
            "tags": [],
            "needs_background": "light"
          }
        },
        {
          "output_type": "display_data",
          "data": {
            "image/png": "[encoded data removed]",
            "text/plain": [
              "<Figure size 432x288 with 1 Axes>"
            ]
          },
          "metadata": {
            "tags": [],
            "needs_background": "light"
          }
        }
      ]
    },
    {
      "cell_type": "code",
      "metadata": {
        "id": "JqdJKR5IHH-a",
        "colab": {
          "base_uri": "https://localhost:8080/",
          "height": 573
        },
        "outputId": "70e7e477-1cbb-476e-b047-b39076a71910"
      },
      "source": [
        "# plot of loss\n",
        "for key in datasets.keys(): \n",
        "  plt.plot(history.history['loss'])\n",
        "  plt.plot(history.history['val_loss'])\n",
        "  plt.title('Model Loss')\n",
        "  plt.ylabel('loss')\n",
        "  plt.xlabel('epoch')\n",
        "  plt.show()"
      ],
      "execution_count": 109,
      "outputs": [
        {
          "output_type": "display_data",
          "data": {
            "image/png": "[encoded data removed]",
            "text/plain": [
              "<Figure size 432x288 with 1 Axes>"
            ]
          },
          "metadata": {
            "tags": [],
            "needs_background": "light"
          }
        },
        {
          "output_type": "display_data",
          "data": {
            "image/png": "[encoded data removed]",
            "text/plain": [
              "<Figure size 432x288 with 1 Axes>"
            ]
          },
          "metadata": {
            "tags": [],
            "needs_background": "light"
          }
        }
      ]
    },
    {
      "cell_type": "markdown",
      "metadata": {
        "id": "L4wSmLCA0C7X"
      },
      "source": [
        "#Model RNN"
      ]
    },
    {
      "cell_type": "code",
      "metadata": {
        "colab": {
          "base_uri": "https://localhost:8080/"
        },
        "id": "TuqheskL8neJ",
        "outputId": "2a0a5a4d-6c01-4c07-d179-d61dc0078a28"
      },
      "source": [
        "# model\n",
        "import tensorflow as tf\n",
        "model2 = tf.keras.Sequential([\n",
        "    tf.keras.layers.Embedding(input_dim=5000, output_dim=64),\n",
        "    tf.keras.layers.SimpleRNN(128),\n",
        "    tf.keras.layers.Dense(128, activation='relu'),\n",
        "    tf.keras.layers.Dropout(0.5),\n",
        "    tf.keras.layers.Dense(2, activation='sigmoid')\n",
        "])\n",
        "model2.compile(optimizer='adam', metrics=['accuracy'], loss='binary_crossentropy',)\n",
        "model2.summary()"
      ],
      "execution_count": 110,
      "outputs": [
        {
          "output_type": "stream",
          "text": [
            "Model: \"sequential_9\"\n",
            "_________________________________________________________________\n",
            "Layer (type)                 Output Shape              Param #   \n",
            "=================================================================\n",
            "embedding_10 (Embedding)     (None, None, 64)          320000    \n",
            "_________________________________________________________________\n",
            "simple_rnn_4 (SimpleRNN)     (None, 128)               24704     \n",
            "_________________________________________________________________\n",
            "dense_18 (Dense)             (None, 128)               16512     \n",
            "_________________________________________________________________\n",
            "dropout_9 (Dropout)          (None, 128)               0         \n",
            "_________________________________________________________________\n",
            "dense_19 (Dense)             (None, 2)                 258       \n",
            "=================================================================\n",
            "Total params: 361,474\n",
            "Trainable params: 361,474\n",
            "Non-trainable params: 0\n",
            "_________________________________________________________________\n"
          ],
          "name": "stdout"
        }
      ]
    },
    {
      "cell_type": "code",
      "metadata": {
        "colab": {
          "base_uri": "https://localhost:8080/"
        },
        "id": "fmgUL_mow8Qp",
        "outputId": "29e5d22e-0e80-4082-fcbe-20dd90c65376"
      },
      "source": [
        "# model fit\n",
        "results = dict()\n",
        "for key in datasets.keys():\n",
        "  history = model2.fit(padded_trains[key], label_trains[key], epochs=5, \n",
        "                    steps_per_epoch = 30, validation_data=(padded_tests[key], label_tests[key]), verbose=2, \n",
        "                    validation_steps=30)\n",
        "  results.update({key:history})"
      ],
      "execution_count": 111,
      "outputs": [
        {
          "output_type": "stream",
          "text": [
            "Epoch 1/5\n",
            "WARNING:tensorflow:Your input ran out of data; interrupting training. Make sure that your dataset or generator can generate at least `steps_per_epoch * epochs` batches (in this case, 30 batches). You may need to use the repeat() function when building your dataset.\n",
            "30/30 - 27s - loss: 0.5655 - accuracy: 0.7686 - val_loss: 0.4731 - val_accuracy: 0.8187\n",
            "Epoch 2/5\n",
            "30/30 - 24s - loss: 0.5270 - accuracy: 0.7906\n",
            "Epoch 3/5\n",
            "30/30 - 24s - loss: 0.5285 - accuracy: 0.7906\n",
            "Epoch 4/5\n",
            "30/30 - 24s - loss: 0.5291 - accuracy: 0.7893\n",
            "Epoch 5/5\n",
            "30/30 - 24s - loss: 0.5248 - accuracy: 0.7906\n",
            "Epoch 1/5\n",
            "WARNING:tensorflow:Your input ran out of data; interrupting training. Make sure that your dataset or generator can generate at least `steps_per_epoch * epochs` batches (in this case, 30 batches). You may need to use the repeat() function when building your dataset.\n",
            "30/30 - 22s - loss: 0.5229 - accuracy: 0.7889 - val_loss: 0.5053 - val_accuracy: 0.7964\n",
            "Epoch 2/5\n",
            "30/30 - 20s - loss: 0.4899 - accuracy: 0.8189\n",
            "Epoch 3/5\n",
            "30/30 - 20s - loss: 0.5166 - accuracy: 0.8174\n",
            "Epoch 4/5\n",
            "30/30 - 20s - loss: 0.4737 - accuracy: 0.8174\n",
            "Epoch 5/5\n",
            "30/30 - 21s - loss: 0.4588 - accuracy: 0.8114\n"
          ],
          "name": "stdout"
        }
      ]
    },
    {
      "cell_type": "code",
      "metadata": {
        "colab": {
          "base_uri": "https://localhost:8080/",
          "height": 573
        },
        "id": "UlCcZoJcy1Gj",
        "outputId": "af597acf-e027-4f9e-808a-4b59132c5625"
      },
      "source": [
        "for key in datasets.keys():  \n",
        "  plt.plot(history.history['accuracy'])\n",
        "  plt.plot(history.history['val_accuracy'])\n",
        "  plt.title('Model Accuracy')\n",
        "  plt.ylabel('accuracy')\n",
        "  plt.xlabel('epoch')\n",
        "  plt.show()"
      ],
      "execution_count": 112,
      "outputs": [
        {
          "output_type": "display_data",
          "data": {
            "image/png": "[encoded data removed]",
            "text/plain": [
              "<Figure size 432x288 with 1 Axes>"
            ]
          },
          "metadata": {
            "tags": [],
            "needs_background": "light"
          }
        },
        {
          "output_type": "display_data",
          "data": {
            "image/png": "[encoded data removed]",
            "text/plain": [
              "<Figure size 432x288 with 1 Axes>"
            ]
          },
          "metadata": {
            "tags": [],
            "needs_background": "light"
          }
        }
      ]
    },
    {
      "cell_type": "code",
      "metadata": {
        "colab": {
          "base_uri": "https://localhost:8080/",
          "height": 573
        },
        "id": "H2IQNzG7y7fC",
        "outputId": "9242a3a9-62c0-4ef6-e80d-277a5ccd7c4a"
      },
      "source": [
        "# plot of loss\n",
        "for key in datasets.keys(): \n",
        "  plt.plot(history.history['loss'])\n",
        "  plt.plot(history.history['val_loss'])\n",
        "  plt.title('Model Loss')\n",
        "  plt.ylabel('loss')\n",
        "  plt.xlabel('epoch')\n",
        "  plt.show()"
      ],
      "execution_count": 113,
      "outputs": [
        {
          "output_type": "display_data",
          "data": {
            "image/png": "[encoded data removed]",
            "text/plain": [
              "<Figure size 432x288 with 1 Axes>"
            ]
          },
          "metadata": {
            "tags": [],
            "needs_background": "light"
          }
        },
        {
          "output_type": "display_data",
          "data": {
            "image/png": "[encoded data removed]",
            "text/plain": [
              "<Figure size 432x288 with 1 Axes>"
            ]
          },
          "metadata": {
            "tags": [],
            "needs_background": "light"
          }
        }
      ]
    }
  ]
}